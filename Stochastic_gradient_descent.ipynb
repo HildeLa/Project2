{
 "cells": [
  {
   "cell_type": "markdown",
   "id": "46d8a993",
   "metadata": {},
   "source": [
    "# Stochastic gradient descent"
   ]
  },
  {
   "cell_type": "markdown",
   "id": "df6ffe47",
   "metadata": {},
   "source": [
    "1. A plain gradient descent with a fixed learning rate (you will need to tune\n",
    "it)."
   ]
  },
  {
   "cell_type": "code",
   "execution_count": 1,
   "id": "da3c1942",
   "metadata": {},
   "outputs": [],
   "source": [
    "#defining an x and a y\n",
    "\n",
    "def simple_xy(x_list):\n",
    "    y_list = []\n",
    "    for x in x_list:\n",
    "        y_list.append(1 + 3*x + 5*x**2)\n",
    "    return y_list\n",
    "    "
   ]
  },
  {
   "cell_type": "code",
   "execution_count": null,
   "id": "718b4b74",
   "metadata": {},
   "outputs": [],
   "source": []
  },
  {
   "cell_type": "code",
   "execution_count": null,
   "id": "d723a631",
   "metadata": {},
   "outputs": [],
   "source": []
  },
  {
   "cell_type": "code",
   "execution_count": null,
   "id": "b8cf0a97",
   "metadata": {},
   "outputs": [],
   "source": []
  },
  {
   "cell_type": "code",
   "execution_count": null,
   "id": "a7d61de4",
   "metadata": {},
   "outputs": [],
   "source": []
  }
 ],
 "metadata": {
  "kernelspec": {
   "display_name": "Python 3 (ipykernel)",
   "language": "python",
   "name": "python3"
  },
  "language_info": {
   "codemirror_mode": {
    "name": "ipython",
    "version": 3
   },
   "file_extension": ".py",
   "mimetype": "text/x-python",
   "name": "python",
   "nbconvert_exporter": "python",
   "pygments_lexer": "ipython3",
   "version": "3.9.12"
  }
 },
 "nbformat": 4,
 "nbformat_minor": 5
}
